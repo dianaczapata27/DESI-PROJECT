{
 "cells": [
  {
   "cell_type": "code",
   "execution_count": null,
   "id": "170639b8",
   "metadata": {},
   "outputs": [],
   "source": [
    "import numpy as np\n",
    "from scipy.spatial import Delaunay\n",
    "from itertools import combinations\n",
    "import pandas as pd\n",
    "import os\n",
    "\n",
    "import seaborn as sns\n",
    "import matplotlib.pyplot as plt\n",
    "import matplotlib\n",
    "import matplotlib.tri as mtri\n",
    "import matplotlib.cm as cm\n",
    "matplotlib.rcParams['figure.dpi'] = 360\n",
    "matplotlib.rcParams['text.usetex'] = True\n",
    "os.environ['PATH'] = '/Library/TeX/texbin:' + os.environ['PATH']"
   ]
  },
  {
   "cell_type": "markdown",
   "id": "bc13dff5",
   "metadata": {},
   "source": [
    "### Data"
   ]
  },
  {
   "cell_type": "code",
   "execution_count": null,
   "id": "d303f272",
   "metadata": {},
   "outputs": [],
   "source": [
    "base_url = 'create_files/'"
   ]
  },
  {
   "cell_type": "code",
   "execution_count": null,
   "id": "f6607404",
   "metadata": {},
   "outputs": [],
   "source": [
    "data_filenames = [f'{base_url}QSO_{i}_clustering_data.ecsv' for i in range(20)]\n",
    "rand_filenames = [f'{base_url}QSO_{i}_clustering_random.ecsv' for i in range(20)]"
   ]
  },
  {
   "cell_type": "markdown",
   "id": "428c9587",
   "metadata": {},
   "source": [
    "### Delaunay triangulation"
   ]
  },
  {
   "cell_type": "code",
   "execution_count": null,
   "id": "951b48ed",
   "metadata": {},
   "outputs": [],
   "source": [
    "df_rosettas = []\n",
    "\n",
    "for data_file, rand_file, rosette_id in zip(data_filenames, rand_filenames, range(len(data_filenames))):\n",
    "    data = pd.read_csv(data_file, comment='#', sep=r'\\s+', engine='python')\n",
    "    rand = pd.read_csv(rand_file, comment='#', sep=r'\\s+', engine='python')\n",
    "\n",
    "    data['RAN'] = False\n",
    "    rand['RAN'] = True\n",
    "\n",
    "    df = pd.concat([data, rand], ignore_index=True)\n",
    "    df['ROSETTE_ID'] = rosette_id\n",
    "\n",
    "    df_rosettas.append(df)"
   ]
  },
  {
   "cell_type": "code",
   "execution_count": null,
   "id": "945c7f8d",
   "metadata": {},
   "outputs": [],
   "source": [
    "tri_3d_list = []  \n",
    "tri_2d_list = []   \n",
    "\n",
    "for df in df_rosettas:\n",
    "    coords_3d = df[['X', 'Y', 'Z']].values\n",
    "    coords_2d = df[['X', 'Y']].values\n",
    "\n",
    "    tri_3d = Delaunay(coords_3d)\n",
    "    tri_2d = mtri.Triangulation(df['X'], df['Y'])\n",
    "\n",
    "    tri_3d_list.append(tri_3d)\n",
    "    tri_2d_list.append(tri_2d)"
   ]
  },
  {
   "cell_type": "code",
   "execution_count": null,
   "id": "07be454a",
   "metadata": {},
   "outputs": [],
   "source": [
    "fig, axes = plt.subplots(5, 4, figsize=(25, 25))\n",
    "axes = axes.flatten()  \n",
    "\n",
    "for i, (df, triang, ax) in enumerate(zip(df_rosettas, tri_2d_list, axes)):\n",
    "\n",
    "    data_real = df[~df['RAN']]\n",
    "    data_rand = df[df['RAN']]\n",
    "\n",
    "    ax.triplot(triang, linewidth=0.2, color='k', zorder=1)\n",
    "    ax.scatter(data_real['X'], data_real['Y'], s=4, c='r', label='Data', zorder=3)\n",
    "    ax.scatter(data_rand['X'], data_rand['Y'], s=0.5, c='b', label='Random', zorder=5)\n",
    "\n",
    "    ax.set_title(f'Rosette {i}', fontsize=10)\n",
    "    ax.set_xlabel('X [Mpc]')\n",
    "    ax.set_ylabel('Y [Mpc]')\n",
    "    ax.set_box_aspect(1)\n",
    "    #ax.legend(fontsize=6, loc='upper right')\n",
    "\n",
    "    #ax.set_xlim(-5800, -5400)\n",
    "    #ax.set_ylim(-80, -0)\n",
    "\n",
    "plt.tight_layout()\n",
    "plt.show()\n"
   ]
  },
  {
   "cell_type": "code",
   "execution_count": null,
   "id": "947aa4fc",
   "metadata": {},
   "outputs": [],
   "source": [
    "from sklearn.decomposition import PCA"
   ]
  },
  {
   "cell_type": "code",
   "execution_count": null,
   "id": "182e966d",
   "metadata": {},
   "outputs": [],
   "source": [
    "def rotate_pca_3d(df):\n",
    "    # use only the real points to calculate the PCA\n",
    "    coords_real = df[~df['RAN']][['X', 'Y', 'Z']].values\n",
    "\n",
    "    pca = PCA(n_components=3)\n",
    "    pca.fit(coords_real)  # only reals define the orientation\n",
    "\n",
    "    coords_all = df[['X', 'Y', 'Z']].values\n",
    "    coords_rotated = pca.transform(coords_all)\n",
    "\n",
    "    df_rot = df.copy()\n",
    "    df_rot[['PC1', 'PC2', 'PC3']] = coords_rotated\n",
    "    #df_rot['Angle rotation [°]'] = np.degrees(np.arccos(np.clip(pca.components_[0] @ [0, 0, 1], -1, 1)))\n",
    "\n",
    "    return df_rot"
   ]
  },
  {
   "cell_type": "code",
   "execution_count": null,
   "id": "05a6715c",
   "metadata": {},
   "outputs": [],
   "source": [
    "df_rosettas_rotated = [rotate_pca_3d(df) for df in df_rosettas]\n",
    "\n",
    "# Create new triangulations with rotated points (real only)\n",
    "tri_2d_list = []\n",
    "for df in df_rosettas_rotated:\n",
    "    #data_real_rot = df[~df['RAN']][['X_rot', 'Y_rot']].values\n",
    "    data_rot = df[['PC1', 'PC2']].values\n",
    "    tri = Delaunay(data_rot)\n",
    "    tri_2d_list.append(tri)"
   ]
  },
  {
   "cell_type": "code",
   "execution_count": null,
   "id": "92e1bf3c",
   "metadata": {},
   "outputs": [],
   "source": [
    "fig, axes = plt.subplots(5, 4, figsize=(25, 25))\n",
    "axes = axes.flatten()\n",
    "\n",
    "for i, (df, triang, ax) in enumerate(zip(df_rosettas_rotated, tri_2d_list, axes)):\n",
    "\n",
    "    data_real = df[~df['RAN']]\n",
    "    data_rand = df[df['RAN']]\n",
    "\n",
    "    ax.triplot(triang.points[:, 0], triang.points[:, 1], triang.simplices, linewidth=0.2, color='k', zorder=1)\n",
    "\n",
    "    ax.scatter(data_real['PC1'], data_real['PC2'], s=4, c='r', label='Data', zorder=3)\n",
    "    ax.scatter(data_rand['PC1'], data_rand['PC2'], s=0.5, c='b', label='Random', zorder=5)\n",
    "\n",
    "    ax.set_title(f'Rosette {i}', fontsize=10)\n",
    "    ax.set_xlabel('PC1 [Mpc]')\n",
    "    ax.set_ylabel('PC2 [Mpc]')\n",
    "    ax.set_box_aspect(1)\n",
    "    ax.legend(fontsize=6, loc='upper right')\n",
    "\n",
    "plt.tight_layout()\n",
    "plt.show()"
   ]
  },
  {
   "cell_type": "markdown",
   "id": "8a7ad328",
   "metadata": {},
   "source": [
    "### Get $\\space r$"
   ]
  },
  {
   "cell_type": "code",
   "execution_count": null,
   "id": "b772bc6a",
   "metadata": {},
   "outputs": [],
   "source": [
    "def compute_r(df):\n",
    "    coords = df[['X', 'Y', 'Z']].values\n",
    "    is_data = ~df['RAN'].values\n",
    "\n",
    "    tri = Delaunay(coords)\n",
    "\n",
    "    #! adjacency list for neighbors\n",
    "    neighbors = {i: set() for i in range(len(coords))}\n",
    "    for simplex in tri.simplices:\n",
    "        for i, j in combinations(simplex, 2):\n",
    "            neighbors[i].add(j)\n",
    "            neighbors[j].add(i)\n",
    "\n",
    "    r = np.zeros(len(coords), dtype=float)\n",
    "    for i, nbrs in neighbors.items():\n",
    "        n_data = int(np.sum(is_data[list(nbrs)]))\n",
    "        n_rand = len(nbrs) - n_data\n",
    "        if (n_data + n_rand) > 0:\n",
    "            r[i] = (n_data - n_rand) / (n_data + n_rand)\n",
    "        else:\n",
    "            raise ValueError(f'No neighbors for point {i} in the triangulation.')\n",
    "\n",
    "    out = df.copy()\n",
    "    out['r'] = r\n",
    "    return out"
   ]
  },
  {
   "cell_type": "code",
   "execution_count": null,
   "id": "d2918232",
   "metadata": {},
   "outputs": [],
   "source": [
    "s = 0\n",
    "for j in range(len(df_rosettas_rotated)):\n",
    "    s += len(df_rosettas_rotated[j])\n",
    "print(s)"
   ]
  },
  {
   "cell_type": "code",
   "execution_count": null,
   "id": "2ef1dec4",
   "metadata": {},
   "outputs": [],
   "source": [
    "df_r = []\n",
    "\n",
    "for i in range(len(df_rosettas_rotated)):\n",
    "    r_data = compute_r(df_rosettas_rotated[i])\n",
    "\n",
    "    df_r.append(r_data)"
   ]
  },
  {
   "cell_type": "markdown",
   "id": "3ba96889",
   "metadata": {},
   "source": [
    "### CDF of $r$"
   ]
  },
  {
   "cell_type": "code",
   "execution_count": null,
   "id": "344d3d54",
   "metadata": {},
   "outputs": [],
   "source": [
    "from statsmodels.distributions.empirical_distribution import ECDF"
   ]
  },
  {
   "cell_type": "code",
   "execution_count": null,
   "id": "22809b2a",
   "metadata": {},
   "outputs": [],
   "source": [
    "def compute_cdf(values):\n",
    "    sorted_vals = np.sort(values)\n",
    "    cdf = np.linspace(0, 1, len(sorted_vals))\n",
    "    return sorted_vals, cdf"
   ]
  },
  {
   "cell_type": "code",
   "execution_count": null,
   "id": "af5e428d",
   "metadata": {},
   "outputs": [],
   "source": [
    "n_rosettas = len(df_r)\n",
    "colors = cm.get_cmap('tab20').colors \n",
    "\n",
    "plt.figure(figsize=(10, 7))\n",
    "\n",
    "for i in range(n_rosettas):\n",
    "    r_data = df_r[i][~df_r[i]['RAN']]['r'].values\n",
    "    r_rand = df_r[i][df_r[i]['RAN']]['r'].values\n",
    "\n",
    "    cdf_data = ECDF(r_data)\n",
    "    cdf_rand = ECDF(r_rand)\n",
    "\n",
    "    r_data_sorted = cdf_data.x\n",
    "    cdf_data_vals = cdf_data.y\n",
    "\n",
    "    r_rand_sorted = cdf_rand.x\n",
    "    cdf_rand_vals = cdf_rand.y\n",
    "\n",
    "    color = colors[i]\n",
    "\n",
    "    plt.plot(r_data_sorted, cdf_data_vals, color=color, linestyle='-', label=f'Rosetta {i} Data')\n",
    "    plt.plot(r_rand_sorted, cdf_rand_vals, color=color, linestyle='dotted', label=f'Rosetta {i} Random')\n",
    "\n",
    "plt.xlabel('r')\n",
    "plt.ylabel('CDF')\n",
    "plt.title('QSO')\n",
    "plt.grid(True)\n",
    "plt.legend(ncol=2, fontsize='small', loc='upper left')\n",
    "plt.tight_layout()\n",
    "plt.show()"
   ]
  },
  {
   "cell_type": "markdown",
   "id": "c755a527",
   "metadata": {},
   "source": [
    "### Classify"
   ]
  },
  {
   "cell_type": "code",
   "execution_count": null,
   "id": "ca0d5c80",
   "metadata": {},
   "outputs": [],
   "source": [
    "def classify_r(df):\n",
    "    r = df['r'].values\n",
    "    conds = [(r >= -1.0) & (r <= -0.9),\n",
    "             (r > -0.9) & (r <= 0.0),\n",
    "             (r > 0.0) & (r <= 0.9),\n",
    "             (r > 0.9) & (r <= 1.0),]\n",
    "    choices = ['void', 'sheet', 'filament', 'knot']\n",
    "    df = df.copy()\n",
    "    df['TYPE'] = np.select(conds, choices, default='error')\n",
    "    return df"
   ]
  },
  {
   "cell_type": "code",
   "execution_count": null,
   "id": "2ad022d7",
   "metadata": {},
   "outputs": [],
   "source": [
    "df_typed = []\n",
    "\n",
    "for df in df_r:\n",
    "    typed = classify_r(df)\n",
    "    df_typed.append(typed)"
   ]
  },
  {
   "cell_type": "code",
   "execution_count": null,
   "id": "e87bf866",
   "metadata": {},
   "outputs": [],
   "source": [
    "structure_types = ['void', 'sheet', 'filament', 'knot']\n",
    "\n",
    "rows = []\n",
    "index_labels = []\n",
    "\n",
    "dfs_by_rosetta = []\n",
    "\n",
    "for i, df in enumerate(df_typed):\n",
    "    rosetta_rows = []\n",
    "    rosetta_labels = []\n",
    "\n",
    "    for source, label in [(False, f\"Rosetta {i} data\"), (True, f\"Rosetta {i} rand\")]:\n",
    "        df_sub = df[df['RAN'] == source]\n",
    "        total = len(df_sub)\n",
    "        values = []\n",
    "\n",
    "        for t in structure_types:\n",
    "            count = np.sum(df_sub['TYPE'] == t)\n",
    "            if count == 0:\n",
    "                frac = 0.0\n",
    "                std = 0.0\n",
    "            else:\n",
    "                frac = count / total\n",
    "                std = ( (frac * (1 - frac)) / total )**0.5\n",
    "\n",
    "            frac_percent = frac * 100\n",
    "            std_percent = std * 100\n",
    "\n",
    "            values.append(f\"{frac_percent:.2f}% ± {std_percent:.2f}%\")\n",
    "\n",
    "        rosetta_rows.append(values)\n",
    "        rosetta_labels.append(label)\n",
    "\n",
    "    rosetta_df = pd.DataFrame(rosetta_rows, columns=['Voids', 'Sheets', 'Filaments', 'Knots'], index=rosetta_labels)\n",
    "    dfs_by_rosetta.append(rosetta_df)\n",
    "\n",
    "for i, rosetta_df in enumerate(dfs_by_rosetta):\n",
    "    print(f\"\\nRosetta {i}\")\n",
    "    display(rosetta_df)"
   ]
  },
  {
   "cell_type": "markdown",
   "id": "fc828895",
   "metadata": {},
   "source": [
    "### Plot"
   ]
  },
  {
   "cell_type": "code",
   "execution_count": null,
   "id": "71c1b468",
   "metadata": {},
   "outputs": [],
   "source": [
    "type_colors = {\n",
    "    'void': 'black',\n",
    "    'sheet': 'blue',\n",
    "    'filament': 'red',\n",
    "    'knot': 'green'\n",
    "}"
   ]
  },
  {
   "cell_type": "markdown",
   "id": "abf2d4c3",
   "metadata": {},
   "source": [
    "# For data"
   ]
  },
  {
   "cell_type": "code",
   "execution_count": null,
   "id": "86d8d799",
   "metadata": {},
   "outputs": [],
   "source": [
    "for j in range(n_rosettas):\n",
    "    df = df_typed[j]\n",
    "\n",
    "    #df = df[df['PC3'].between(0, 25)]\n",
    "\n",
    "    coords2d = df[['PC1', 'PC2']].values\n",
    "    is_real = ~df['RAN'].values\n",
    "\n",
    "    n_types = len(structure_types)\n",
    "    fig, ax = plt.subplots(4, 1, figsize=(12, 6))\n",
    "\n",
    "    for i, tp in enumerate(structure_types):\n",
    "        ax = plt.subplot(n_types, 1, i + 1)\n",
    "        color = type_colors[tp]\n",
    "\n",
    "        mask_t = (df['TYPE'] == tp).values\n",
    "        mask_real = mask_t & is_real\n",
    "\n",
    "        ax.scatter(\n",
    "            coords2d[mask_real, 0], coords2d[mask_real, 1],\n",
    "            s=20, facecolors=color, edgecolors='black', linewidths=0.3, alpha=0.4\n",
    "        )\n",
    "\n",
    "        ax.set_title(f' {tp.capitalize()}')\n",
    "        ax.set_xlabel('PC1 [Mpc]')\n",
    "        ax.set_ylabel('PC2 [Mpc]')\n",
    "\n",
    "    plt.suptitle(f'Rosetta {j} - Data', fontsize=16)\n",
    "    plt.tight_layout(rect=[0, 0, 1, 0.96])\n",
    "    plt.show()\n"
   ]
  },
  {
   "cell_type": "markdown",
   "id": "dc2f2988",
   "metadata": {},
   "source": [
    "# For random"
   ]
  },
  {
   "cell_type": "code",
   "execution_count": null,
   "id": "5ece9b54",
   "metadata": {},
   "outputs": [],
   "source": [
    "for j in range(n_rosettas):\n",
    "    df = df_typed[j]\n",
    "\n",
    "    #df = df[df['PC3'].between(0, 25)]\n",
    "\n",
    "    coords2d = df[['PC1', 'PC2']].values\n",
    "    is_real = ~df['RAN'].values\n",
    "\n",
    "    n_types = len(structure_types)\n",
    "    fig, ax = plt.subplots(4, 1, figsize=(12, 6))\n",
    "\n",
    "    for i, tp in enumerate(structure_types):\n",
    "        ax = plt.subplot(n_types, 1, i + 1)\n",
    "        color = type_colors[tp]\n",
    "\n",
    "        mask_t = (df['TYPE'] == tp).values\n",
    "        mask_rand = mask_t & ~is_real\n",
    "\n",
    "        ax.scatter(\n",
    "            coords2d[mask_rand, 0], coords2d[mask_rand, 1],\n",
    "            s=20, facecolors=color, edgecolors='black', linewidths=0.3, alpha=0.4\n",
    "        )\n",
    "\n",
    "        ax.set_title(f' {tp.capitalize()}')\n",
    "        ax.set_xlabel('PC1 [Mpc]')\n",
    "        ax.set_ylabel('PC2 [Mpc]')\n",
    "\n",
    "    plt.suptitle(f'Rosetta {j} - Random', fontsize=16)\n",
    "    plt.tight_layout(rect=[0, 0, 1, 0.96])\n",
    "    plt.show()"
   ]
  },
  {
   "cell_type": "code",
   "execution_count": null,
   "id": "f4592a38",
   "metadata": {},
   "outputs": [],
   "source": []
  }
 ],
 "metadata": {
  "kernelspec": {
   "display_name": "base",
   "language": "python",
   "name": "python3"
  },
  "language_info": {
   "codemirror_mode": {
    "name": "ipython",
    "version": 3
   },
   "file_extension": ".py",
   "mimetype": "text/x-python",
   "name": "python",
   "nbconvert_exporter": "python",
   "pygments_lexer": "ipython3",
   "version": "3.12.3"
  }
 },
 "nbformat": 4,
 "nbformat_minor": 5
}
