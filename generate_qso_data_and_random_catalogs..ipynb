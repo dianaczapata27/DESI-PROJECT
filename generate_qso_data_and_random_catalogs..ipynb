{
  "cells": [
    {
      "cell_type": "code",
      "execution_count": 24,
      "metadata": {},
      "outputs": [],
      "source": [
        "from astropy.cosmology import Planck18\n",
        "from astropy.coordinates import SkyCoord\n",
        "import astropy.units as u\n",
        "\n",
        "from astropy.table import Table, Column\n",
        "import pandas as pd\n",
        "import os\n",
        "import glob\n",
        "import random"
      ]
    },
    {
      "cell_type": "code",
      "execution_count": 2,
      "metadata": {},
      "outputs": [],
      "source": [
        "# original files are found here https://data.desi.lbl.gov/public/edr/vac/edr/lss/v2.0/LSScats/clustering/\n",
        "lss_data_N = Table.read(\"data/QSO_N_clustering.dat.fits\")\n",
        "lss_data_S = Table.read(\"data/QSO_S_clustering.dat.fits\")"
      ]
    },
    {
      "cell_type": "markdown",
      "metadata": {},
      "source": [
        "# For data file:"
      ]
    },
    {
      "cell_type": "code",
      "execution_count": 3,
      "metadata": {},
      "outputs": [],
      "source": [
        "# Filter one-dimensional columns\n",
        "names_N = [name for name in lss_data_N.colnames if len(lss_data_N[name].shape) <= 1]\n",
        "names_S = [name for name in lss_data_S.colnames if len(lss_data_S[name].shape) <= 1]\n",
        "\n",
        "# Convert to pandas DataFrame with only valid columns\n",
        "df_N = lss_data_N[names_N].to_pandas()\n",
        "df_S = lss_data_S[names_S].to_pandas()\n",
        "\n",
        "# Concatenate both DataFrames\n",
        "df_total = pd.concat([df_N, df_S], ignore_index=True)\n",
        "df_total.rename(columns={'Z': 'REDSHIFT'}, inplace=True)"
      ]
    },
    {
      "cell_type": "code",
      "execution_count": 4,
      "metadata": {},
      "outputs": [],
      "source": [
        "# Group by ROSETTE_NUMBER\n",
        "df = {}\n",
        "for rosette in sorted(df_total['ROSETTE_NUMBER'].unique()):\n",
        "    df[rosette] = df_total[df_total['ROSETTE_NUMBER'] == rosette].copy()"
      ]
    },
    {
      "cell_type": "markdown",
      "metadata": {},
      "source": [
        "### Calculate comovil distance and coordinates"
      ]
    },
    {
      "cell_type": "code",
      "execution_count": 5,
      "metadata": {},
      "outputs": [],
      "source": [
        "cosmo = Planck18 # define cosmology"
      ]
    },
    {
      "cell_type": "code",
      "execution_count": 7,
      "metadata": {},
      "outputs": [],
      "source": [
        "for i in range(len(df)):\n",
        "    redshift = df[i]['REDSHIFT'].values\n",
        "    ra = df[i]['RA'].values\n",
        "    dec = df[i]['DEC'].values\n",
        "    \n",
        "    # comoving distance\n",
        "    d_comov = cosmo.comoving_distance(redshift).to(u.Mpc).value\n",
        "    df[i]['COMOVING_DISTANCE'] = d_comov\n",
        "\n",
        "    coords = SkyCoord(ra=ra*u.deg, dec=dec*u.deg, distance=d_comov*u.Mpc, frame='icrs')\n",
        "\n",
        "    # cartesian coordinates\n",
        "    x = coords.cartesian.x.value\n",
        "    y = coords.cartesian.y.value\n",
        "    z = coords.cartesian.z.value \n",
        "\n",
        "    df[i]['X'] = coords.cartesian.x.to(u.Mpc).value\n",
        "    df[i]['Y'] = coords.cartesian.y.to(u.Mpc).value\n",
        "    df[i]['Z'] = coords.cartesian.z.to(u.Mpc).value "
      ]
    },
    {
      "cell_type": "markdown",
      "metadata": {},
      "source": [
        "### Save files"
      ]
    },
    {
      "cell_type": "code",
      "execution_count": 34,
      "metadata": {},
      "outputs": [],
      "source": [
        "os.makedirs(\"create_files\", exist_ok=True)"
      ]
    },
    {
      "cell_type": "code",
      "execution_count": 13,
      "metadata": {},
      "outputs": [
        {
          "name": "stdout",
          "output_type": "stream",
          "text": [
            "Saved file: create_files/QSO_0_clustering_data.ecsv\n",
            "Saved file: create_files/QSO_1_clustering_data.ecsv\n",
            "Saved file: create_files/QSO_2_clustering_data.ecsv\n",
            "Saved file: create_files/QSO_3_clustering_data.ecsv\n",
            "Saved file: create_files/QSO_4_clustering_data.ecsv\n",
            "Saved file: create_files/QSO_5_clustering_data.ecsv\n",
            "Saved file: create_files/QSO_6_clustering_data.ecsv\n",
            "Saved file: create_files/QSO_7_clustering_data.ecsv\n",
            "Saved file: create_files/QSO_8_clustering_data.ecsv\n",
            "Saved file: create_files/QSO_9_clustering_data.ecsv\n",
            "Saved file: create_files/QSO_10_clustering_data.ecsv\n",
            "Saved file: create_files/QSO_11_clustering_data.ecsv\n",
            "Saved file: create_files/QSO_12_clustering_data.ecsv\n",
            "Saved file: create_files/QSO_13_clustering_data.ecsv\n",
            "Saved file: create_files/QSO_14_clustering_data.ecsv\n",
            "Saved file: create_files/QSO_15_clustering_data.ecsv\n",
            "Saved file: create_files/QSO_16_clustering_data.ecsv\n",
            "Saved file: create_files/QSO_17_clustering_data.ecsv\n",
            "Saved file: create_files/QSO_18_clustering_data.ecsv\n",
            "Saved file: create_files/QSO_19_clustering_data.ecsv\n"
          ]
        }
      ],
      "source": [
        "for i in range(len(df)):\n",
        "    targetid = df[i]['TARGETID']\n",
        "    x = Column(df[i]['X'], unit=u.Mpc)\n",
        "    y = Column(df[i]['Y'], unit=u.Mpc)\n",
        "    z = Column(df[i]['Z'], unit=u.Mpc)  \n",
        "\n",
        "    table = Table([targetid, x, y, z], names=('TARGETID', 'X', 'Y', 'Z'))\n",
        "\n",
        "    filename = f\"create_files/QSO_{i}_clustering_data.ecsv\"\n",
        "    table.write(filename, format='ascii.ecsv', overwrite=True)\n",
        "\n",
        "    print(f\"Saved file: {filename}\")"
      ]
    },
    {
      "cell_type": "markdown",
      "metadata": {},
      "source": [
        "# For random file:"
      ]
    },
    {
      "cell_type": "code",
      "execution_count": 37,
      "metadata": {},
      "outputs": [],
      "source": [
        "# Directorio donde están los archivos .ran\n",
        "ran_files_N = sorted(glob.glob(\"data/QSO_N_*_clustering.ran.fits\"))\n",
        "ran_files_S = sorted(glob.glob(\"data/QSO_S_*_clustering.ran.fits\"))"
      ]
    },
    {
      "cell_type": "code",
      "execution_count": 23,
      "metadata": {},
      "outputs": [],
      "source": [
        "# ROSETTE_NUMBERs per hemisphere\n",
        "rosettas_N = set(lss_data_N['ROSETTE_NUMBER'])\n",
        "rosettas_S = set(lss_data_S['ROSETTE_NUMBER'])"
      ]
    },
    {
      "cell_type": "code",
      "execution_count": null,
      "metadata": {},
      "outputs": [
        {
          "name": "stdout",
          "output_type": "stream",
          "text": [
            "→ df[0] uses random file: data\\QSO_S_10_clustering.ran.fits\n",
            "Saved file: create_files/QSO_0_clustering_random.ecsv\n",
            "→ df[1] uses random file: data\\QSO_S_11_clustering.ran.fits\n",
            "Saved file: create_files/QSO_1_clustering_random.ecsv\n",
            "→ df[2] uses random file: data\\QSO_S_4_clustering.ran.fits\n",
            "Saved file: create_files/QSO_2_clustering_random.ecsv\n",
            "→ df[3] uses random file: data\\QSO_N_14_clustering.ran.fits\n",
            "Saved file: create_files/QSO_3_clustering_random.ecsv\n",
            "→ df[4] uses random file: data\\QSO_S_1_clustering.ran.fits\n",
            "Saved file: create_files/QSO_4_clustering_random.ecsv\n",
            "→ df[5] uses random file: data\\QSO_S_13_clustering.ran.fits\n",
            "Saved file: create_files/QSO_5_clustering_random.ecsv\n",
            "→ df[6] uses random file: data\\QSO_N_10_clustering.ran.fits\n",
            "Saved file: create_files/QSO_6_clustering_random.ecsv\n",
            "→ df[7] uses random file: data\\QSO_N_16_clustering.ran.fits\n",
            "Saved file: create_files/QSO_7_clustering_random.ecsv\n",
            "→ df[8] uses random file: data\\QSO_S_8_clustering.ran.fits\n",
            "Saved file: create_files/QSO_8_clustering_random.ecsv\n",
            "→ df[9] uses random file: data\\QSO_S_0_clustering.ran.fits\n",
            "Saved file: create_files/QSO_9_clustering_random.ecsv\n",
            "→ df[10] uses random file: data\\QSO_S_12_clustering.ran.fits\n",
            "Saved file: create_files/QSO_10_clustering_random.ecsv\n",
            "→ df[11] uses random file: data\\QSO_N_13_clustering.ran.fits\n",
            "Saved file: create_files/QSO_11_clustering_random.ecsv\n",
            "→ df[12] uses random file: data\\QSO_N_2_clustering.ran.fits\n",
            "Saved file: create_files/QSO_12_clustering_random.ecsv\n",
            "→ df[13] uses random file: data\\QSO_N_4_clustering.ran.fits\n",
            "Saved file: create_files/QSO_13_clustering_random.ecsv\n",
            "→ df[14] uses random file: data\\QSO_N_6_clustering.ran.fits\n",
            "Saved file: create_files/QSO_14_clustering_random.ecsv\n",
            "→ df[15] uses random file: data\\QSO_N_3_clustering.ran.fits\n",
            "Saved file: create_files/QSO_15_clustering_random.ecsv\n",
            "→ df[16] uses random file: data\\QSO_S_17_clustering.ran.fits\n",
            "Saved file: create_files/QSO_16_clustering_random.ecsv\n",
            "→ df[17] uses random file: data\\QSO_S_16_clustering.ran.fits\n",
            "Saved file: create_files/QSO_17_clustering_random.ecsv\n",
            "→ df[18] uses random file: data\\QSO_N_15_clustering.ran.fits\n",
            "Saved file: create_files/QSO_18_clustering_random.ecsv\n",
            "→ df[19] uses random file: data\\QSO_N_0_clustering.ran.fits\n",
            "Saved file: create_files/QSO_19_clustering_random.ecsv\n"
          ]
        }
      ],
      "source": [
        "# Maintain list of used .ran files to avoid repetition\n",
        "used_ran_N = set()\n",
        "used_ran_S = set()\n",
        "\n",
        "# Process each df[i]\n",
        "for i in range(len(df)):\n",
        "    rosetta = df[i]['ROSETTE_NUMBER'].iloc[0]\n",
        "    n_rows = len(df[i])\n",
        "\n",
        "    # Choose hemisphere\n",
        "    if rosetta in rosettas_N:\n",
        "        candidates = [f for f in ran_files_N if f not in used_ran_N]\n",
        "        ran_file = random.choice(candidates)\n",
        "        used_ran_N.add(ran_file)\n",
        "    elif rosetta in rosettas_S:\n",
        "        candidates = [f for f in ran_files_S if f not in used_ran_S]\n",
        "        ran_file = random.choice(candidates)\n",
        "        used_ran_S.add(ran_file)\n",
        "        \n",
        "    print(f\"→ df[{i}] uses random file: {ran_file}\")\n",
        "\n",
        "    # Read random file and sample\n",
        "    ran_table = Table.read(ran_file)\n",
        "    ran_df = ran_table.to_pandas().sample(n=n_rows, random_state=42).reset_index(drop=True) # Same length as the _dat file\n",
        "\n",
        "    z_ran = ran_df['Z'].values\n",
        "    d_comov = cosmo.comoving_distance(z_ran).to(u.Mpc)\n",
        "    ran_df['COMOVING_DISTANCE'] = d_comov.value\n",
        "\n",
        "    coords = SkyCoord(ra=ran_df['RA'].values * u.deg,\n",
        "                    dec=ran_df['DEC'].values * u.deg,\n",
        "                    distance=d_comov)\n",
        "\n",
        "    x = Column(coords.cartesian.x.to(u.Mpc), name='X')\n",
        "    y = Column(coords.cartesian.y.to(u.Mpc), name='Y')\n",
        "    z = Column(coords.cartesian.z.to(u.Mpc), name='Z')\n",
        "\n",
        "    output_table = Table([x, y, z])\n",
        "    filename = f\"create_files/QSO_{i}_clustering_random.ecsv\"\n",
        "    output_table.write(filename, format='ascii.ecsv', overwrite=True)\n",
        "    print(f\"Saved file: {filename}\")"
      ]
    },
    {
      "cell_type": "code",
      "execution_count": null,
      "metadata": {},
      "outputs": [],
      "source": []
    }
  ],
  "metadata": {
    "colab": {
      "provenance": []
    },
    "kernelspec": {
      "display_name": "base",
      "language": "python",
      "name": "python3"
    },
    "language_info": {
      "codemirror_mode": {
        "name": "ipython",
        "version": 3
      },
      "file_extension": ".py",
      "mimetype": "text/x-python",
      "name": "python",
      "nbconvert_exporter": "python",
      "pygments_lexer": "ipython3",
      "version": "3.12.3"
    }
  },
  "nbformat": 4,
  "nbformat_minor": 0
}
