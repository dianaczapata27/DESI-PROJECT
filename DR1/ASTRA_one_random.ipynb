{
 "cells": [
  {
   "cell_type": "code",
   "execution_count": 1,
   "id": "170639b8",
   "metadata": {},
   "outputs": [],
   "source": [
    "import numpy as np\n",
    "from astropy.table import Table\n",
    "from scipy.spatial import Delaunay\n",
    "from itertools import combinations\n",
    "import pandas as pd\n",
    "import os\n",
    "\n",
    "import seaborn as sns\n",
    "import matplotlib.pyplot as plt\n",
    "import matplotlib\n",
    "import matplotlib.tri as mtri\n",
    "import matplotlib.cm as cm\n",
    "matplotlib.rcParams['figure.dpi'] = 360\n",
    "matplotlib.rcParams['text.usetex'] = True\n",
    "os.environ['PATH'] = '/Library/TeX/texbin:' + os.environ['PATH']"
   ]
  },
  {
   "cell_type": "markdown",
   "id": "bc13dff5",
   "metadata": {},
   "source": [
    "### Data"
   ]
  },
  {
   "cell_type": "code",
   "execution_count": 2,
   "id": "f6607404",
   "metadata": {},
   "outputs": [],
   "source": [
    "data_ngc = Table.read(\"create_files/QSO_NGC_clustering_data.ecsv\", format=\"ascii.ecsv\").to_pandas()\n",
    "rand_ngc = Table.read(\"create_files/QSO_NGC_clustering_random.ecsv\", format=\"ascii.ecsv\").to_pandas()\n",
    "\n",
    "data_sgc = Table.read(\"create_files/QSO_SGC_clustering_data.ecsv\", format=\"ascii.ecsv\").to_pandas()\n",
    "rand_sgc = Table.read(\"create_files/QSO_SGC_clustering_random.ecsv\", format=\"ascii.ecsv\").to_pandas()"
   ]
  },
  {
   "cell_type": "code",
   "execution_count": 3,
   "id": "5733a5a1",
   "metadata": {},
   "outputs": [],
   "source": [
    "data_ngc['RAN'] = False\n",
    "rand_ngc['RAN'] = True\n",
    "\n",
    "data_sgc['RAN'] = False\n",
    "rand_sgc['RAN'] = True"
   ]
  },
  {
   "cell_type": "code",
   "execution_count": 4,
   "id": "c08885d9",
   "metadata": {},
   "outputs": [],
   "source": [
    "# Concatenate the data and random catalogs\n",
    "df_north = pd.concat([data_ngc, rand_ngc], ignore_index=True)\n",
    "df_south = pd.concat([data_sgc, rand_sgc], ignore_index=True)"
   ]
  },
  {
   "cell_type": "code",
   "execution_count": 7,
   "id": "579ed8fc",
   "metadata": {},
   "outputs": [],
   "source": [
    "from astropy.coordinates import CartesianRepresentation, ICRS\n",
    "import astropy.units as u"
   ]
  },
  {
   "cell_type": "code",
   "execution_count": null,
   "id": "4f0bdca7",
   "metadata": {},
   "outputs": [],
   "source": [
    "def ra_dec(df):\n",
    "    df_ra_dec = df.copy() \n",
    "\n",
    "    cartesian = CartesianRepresentation(\n",
    "        df_ra_dec['X'].values * u.Mpc,\n",
    "        df_ra_dec['Y'].values * u.Mpc,\n",
    "        df_ra_dec['Z'].values * u.Mpc\n",
    "    )\n",
    "\n",
    "    coords = ICRS(cartesian)\n",
    "\n",
    "    df_ra_dec['RA'] = coords.ra.deg\n",
    "    df_ra_dec['DEC'] = coords.dec.deg\n",
    "\n",
    "    return df_ra_dec\n"
   ]
  },
  {
   "cell_type": "code",
   "execution_count": 9,
   "id": "def6457c",
   "metadata": {},
   "outputs": [],
   "source": [
    "df_hemispheres = [ra_dec(df_north), ra_dec(df_south)]"
   ]
  },
  {
   "cell_type": "code",
   "execution_count": null,
   "id": "fca354a1",
   "metadata": {},
   "outputs": [],
   "source": []
  },
  {
   "cell_type": "markdown",
   "id": "428c9587",
   "metadata": {},
   "source": [
    "### Delaunay triangulation"
   ]
  },
  {
   "cell_type": "code",
   "execution_count": null,
   "id": "d0238be9",
   "metadata": {},
   "outputs": [],
   "source": [
    "tri_3d_list = []\n",
    "tri_2d_list = []\n",
    "\n",
    "for df in df_hemispheres:\n",
    "    coords_3d = df[['X', 'Y', 'Z']].values\n",
    "    coords_2d = df[['X', 'Y']].values\n",
    "\n",
    "    tri_3d = Delaunay(coords_3d)\n",
    "    tri_2d = mtri.Triangulation(df['X'], df['Y'])\n",
    "\n",
    "    tri_3d_list.append(tri_3d)\n",
    "    tri_2d_list.append(tri_2d)\n"
   ]
  },
  {
   "cell_type": "code",
   "execution_count": null,
   "id": "15475b1f",
   "metadata": {},
   "outputs": [],
   "source": [
    "x_min, x_max = -5800, -5400\n",
    "y_min, y_max =  -80,    0\n",
    "\n",
    "fig, axes = plt.subplots(1, 2, figsize=(18, 9))\n",
    "axes = axes.flatten()\n",
    "\n",
    "for i, (name, df, triang, ax) in enumerate(zip(['North', 'South'], df_hemispheres, tri_2d_list, axes)):\n",
    "\n",
    "    #df_cut = df[(df['X'] > x_min) & (df['X'] < x_max) & \n",
    "     #           (df['Y'] > y_min) & (df['Y'] < y_max)]\n",
    "    \n",
    "    df_cut = df\n",
    "\n",
    "    data_real = df_cut[~df_cut['RAN']]\n",
    "    data_rand = df_cut[df_cut['RAN']]\n",
    "\n",
    "    ax.triplot(triang, linewidth=0.5, color='black', alpha=0.3)\n",
    "\n",
    "    ax.scatter(data_rand['X'], data_rand['Y'], s=0.1, c='blue', label='Random')\n",
    "    ax.scatter(data_real['X'], data_real['Y'], s=0.3, c='red', label='Data')\n",
    "\n",
    "    ax.set_title(f'{name} Region', fontsize=12)\n",
    "    ax.set_xlabel('X [Mpc]')\n",
    "    ax.set_ylabel('Y [Mpc]')\n",
    "    #ax.set_xlim(x_min, x_max)\n",
    "    #ax.set_ylim(y_min, y_max)\n",
    "    ax.set_box_aspect(1)\n",
    "    ax.legend(fontsize=8, loc='upper right')\n",
    "\n",
    "plt.tight_layout()\n",
    "plt.show()\n"
   ]
  },
  {
   "cell_type": "markdown",
   "id": "8a7ad328",
   "metadata": {},
   "source": [
    "### Get $\\space r$"
   ]
  },
  {
   "cell_type": "code",
   "execution_count": null,
   "id": "b772bc6a",
   "metadata": {},
   "outputs": [],
   "source": [
    "def compute_r(df):\n",
    "    coords = df[['X', 'Y', 'Z']].values\n",
    "    is_data = ~df['RAN'].values\n",
    "\n",
    "    tri = Delaunay(coords)\n",
    "\n",
    "    #! adjacency list for neighbors\n",
    "    neighbors = {i: set() for i in range(len(coords))}\n",
    "    for simplex in tri.simplices:\n",
    "        for i, j in combinations(simplex, 2):\n",
    "            neighbors[i].add(j)\n",
    "            neighbors[j].add(i)\n",
    "\n",
    "    r = np.zeros(len(coords), dtype=float)\n",
    "    for i, nbrs in neighbors.items():\n",
    "        n_data = int(np.sum(is_data[list(nbrs)]))\n",
    "        n_rand = len(nbrs) - n_data\n",
    "        if (n_data + n_rand) > 0:\n",
    "            r[i] = (n_data - n_rand) / (n_data + n_rand)\n",
    "        else:\n",
    "            raise ValueError(f'No neighbors for point {i} in the triangulation.')\n",
    "\n",
    "    out = df.copy()\n",
    "    out['r'] = r\n",
    "    return out"
   ]
  },
  {
   "cell_type": "code",
   "execution_count": null,
   "id": "46015814",
   "metadata": {},
   "outputs": [],
   "source": [
    "df_r = [compute_r(df_hemispheres[0]), compute_r(df_hemispheres[1])] # [NORTH, SOUTH]"
   ]
  },
  {
   "cell_type": "markdown",
   "id": "3ba96889",
   "metadata": {},
   "source": [
    "### CDF of $r$"
   ]
  },
  {
   "cell_type": "code",
   "execution_count": null,
   "id": "344d3d54",
   "metadata": {},
   "outputs": [],
   "source": [
    "from statsmodels.distributions.empirical_distribution import ECDF"
   ]
  },
  {
   "cell_type": "code",
   "execution_count": null,
   "id": "af5e428d",
   "metadata": {},
   "outputs": [],
   "source": [
    "colors = ['red', 'blue']\n",
    "labels = ['North', 'South'] \n",
    "\n",
    "plt.figure(figsize=(10, 7))\n",
    "\n",
    "for i in range(len(df_r)):\n",
    "    r_data = df_r[i][~df_r[i]['RAN']]['r'].values\n",
    "    r_rand = df_r[i][df_r[i]['RAN']]['r'].values\n",
    "\n",
    "    cdf_data = ECDF(r_data)\n",
    "    cdf_rand = ECDF(r_rand)\n",
    "\n",
    "    r_data_sorted = cdf_data.x\n",
    "    cdf_data_vals = cdf_data.y\n",
    "\n",
    "    r_rand_sorted = cdf_rand.x\n",
    "    cdf_rand_vals = cdf_rand.y\n",
    "\n",
    "    color = colors[i]\n",
    "\n",
    "    plt.plot(r_data_sorted, cdf_data_vals, color=color, linestyle='-', label=f'{labels[i]} Data')\n",
    "    plt.plot(r_rand_sorted, cdf_rand_vals, color=color, linestyle='dotted', label=f'{labels[i]} Random')\n",
    "\n",
    "plt.xlabel(r'$r\\,[\\mathrm{Mpc}]$')\n",
    "plt.ylabel('CDF')\n",
    "plt.title('QSO')\n",
    "plt.grid(True)\n",
    "plt.legend(ncol=2, fontsize='small', loc='upper left')\n",
    "plt.tight_layout()\n",
    "plt.show()\n"
   ]
  },
  {
   "cell_type": "markdown",
   "id": "c755a527",
   "metadata": {},
   "source": [
    "### Classify"
   ]
  },
  {
   "cell_type": "code",
   "execution_count": null,
   "id": "ca0d5c80",
   "metadata": {},
   "outputs": [],
   "source": [
    "def classify_r(df):\n",
    "    r = df['r'].values\n",
    "    conds = [(r >= -1.0) & (r <= -0.9),\n",
    "             (r > -0.9) & (r <= 0.0),\n",
    "             (r > 0.0) & (r <= 0.9),\n",
    "             (r > 0.9) & (r <= 1.0),]\n",
    "    choices = ['void', 'sheet', 'filament', 'knot']\n",
    "    df = df.copy()\n",
    "    df['TYPE'] = np.select(conds, choices, default='error')\n",
    "    return df"
   ]
  },
  {
   "cell_type": "code",
   "execution_count": null,
   "id": "eb28fe2d",
   "metadata": {},
   "outputs": [],
   "source": [
    "df_typed = [classify_r(df_r[0]), classify_r(df_r[1])] # [NORTH, SOUTH]"
   ]
  },
  {
   "cell_type": "code",
   "execution_count": null,
   "id": "f6ce294d",
   "metadata": {},
   "outputs": [],
   "source": [
    "structure_types = ['void', 'sheet', 'filament', 'knot']\n",
    "hemisphere_labels = ['North', 'South'] \n",
    "\n",
    "dfs_by_hemisphere = []\n",
    "\n",
    "for i, df in enumerate(df_typed):\n",
    "    hemi_rows = []\n",
    "    hemi_labels = []\n",
    "\n",
    "    for source, label in [(False, f\"{hemisphere_labels[i]} Data\"), (True, f\"{hemisphere_labels[i]} Random\")]:\n",
    "        df_sub = df[df['RAN'] == source]\n",
    "        total = len(df_sub)\n",
    "        values = []\n",
    "\n",
    "        for t in structure_types:\n",
    "            count = np.sum(df_sub['TYPE'] == t)\n",
    "            if count == 0:\n",
    "                frac = 0.0\n",
    "                std = 0.0\n",
    "            else:\n",
    "                frac = count / total\n",
    "                std = ((frac * (1 - frac)) / total) ** 0.5\n",
    "\n",
    "            frac_percent = frac * 100\n",
    "            std_percent = std * 100\n",
    "\n",
    "            values.append(f\"{frac_percent:.2f}% ± {std_percent:.2f}%\")\n",
    "\n",
    "        hemi_rows.append(values)\n",
    "        hemi_labels.append(label)\n",
    "\n",
    "    hemi_df = pd.DataFrame(hemi_rows, columns=['Voids', 'Sheets', 'Filaments', 'Knots'], index=hemi_labels)\n",
    "    dfs_by_hemisphere.append(hemi_df)\n",
    "\n",
    "for i, hemi_df in enumerate(dfs_by_hemisphere):\n",
    "    print(f\"\\n{hemisphere_labels[i]}\")\n",
    "    display(hemi_df)\n"
   ]
  },
  {
   "cell_type": "markdown",
   "id": "fc828895",
   "metadata": {},
   "source": [
    "### Plot"
   ]
  },
  {
   "cell_type": "code",
   "execution_count": null,
   "id": "71c1b468",
   "metadata": {},
   "outputs": [],
   "source": [
    "type_colors = {\n",
    "    'void': 'black',\n",
    "    'sheet': 'blue',\n",
    "    'filament': 'red',\n",
    "    'knot': 'green'\n",
    "}"
   ]
  },
  {
   "cell_type": "markdown",
   "id": "abf2d4c3",
   "metadata": {},
   "source": [
    "# For data"
   ]
  },
  {
   "cell_type": "code",
   "execution_count": null,
   "id": "1cbe7d6a",
   "metadata": {},
   "outputs": [],
   "source": [
    "xlims = [(-4500, -2500), (3500, 5500)]\n",
    "ylims = [(-200,200), (-200,200)]\n",
    "\n",
    "for h_idx, df in enumerate(df_typed):\n",
    "    label = hemisphere_labels[h_idx]\n",
    "    coords2d = df[['X', 'Y']].values\n",
    "    is_real = ~df['RAN'].values\n",
    "\n",
    "    fig, axes = plt.subplots(1, 4, figsize=(20, 5))  \n",
    "    axes = axes.flatten()\n",
    "\n",
    "    for t_idx, tp in enumerate(structure_types):\n",
    "        color = type_colors[tp]\n",
    "        mask_t = (df['TYPE'] == tp).values\n",
    "        mask_real = mask_t & is_real\n",
    "\n",
    "        ax = axes[t_idx]\n",
    "\n",
    "        ax.scatter(\n",
    "            coords2d[mask_real, 0], coords2d[mask_real, 1],\n",
    "            s=1, facecolors=color, edgecolors='black', linewidths=0.3, alpha=0.4\n",
    "        )\n",
    "        ax.set_title(tp.capitalize(), fontsize=12)\n",
    "        ax.set_xlabel('X [Mpc]')\n",
    "        ax.set_ylabel('Y [Mpc]')\n",
    "        ax.set_xlim(xlims[h_idx])\n",
    "        ax.set_ylim(ylims[h_idx])\n",
    "        ax.set_box_aspect(1)\n",
    "\n",
    "    plt.suptitle(f'QSO - {label} Hemisphere (Data)', fontsize=16)\n",
    "    plt.tight_layout(rect=[0, 0, 1, 0.95])\n",
    "    plt.show()\n"
   ]
  },
  {
   "cell_type": "markdown",
   "id": "dc2f2988",
   "metadata": {},
   "source": [
    "# For random"
   ]
  },
  {
   "cell_type": "code",
   "execution_count": null,
   "id": "d429969d",
   "metadata": {},
   "outputs": [],
   "source": [
    "xlims = [(-4500, -2500), (3500, 5500)]\n",
    "ylims = [(-200,200), (-200,200)]\n",
    "\n",
    "for h_idx, df in enumerate(df_typed):\n",
    "    label = hemisphere_labels[h_idx]\n",
    "    coords2d = df[['X', 'Y']].values\n",
    "    is_real = ~df['RAN'].values\n",
    "\n",
    "    fig, axes = plt.subplots(1, 4, figsize=(20, 5))  \n",
    "    axes = axes.flatten()\n",
    "\n",
    "    for t_idx, tp in enumerate(structure_types):\n",
    "        color = type_colors[tp]\n",
    "        mask_t = (df['TYPE'] == tp).values\n",
    "        mask_rand = mask_t & ~is_real\n",
    "\n",
    "        ax = axes[t_idx]\n",
    "\n",
    "        ax.scatter(\n",
    "            coords2d[mask_rand, 0], coords2d[mask_rand, 1],\n",
    "            s=1, facecolors=color, edgecolors='black', linewidths=0.3, alpha=0.4\n",
    "        )\n",
    "        ax.set_title(tp.capitalize(), fontsize=12)\n",
    "        ax.set_xlabel('X [Mpc]')\n",
    "        ax.set_ylabel('Y [Mpc]')\n",
    "        ax.set_xlim(xlims[h_idx])\n",
    "        ax.set_ylim(ylims[h_idx])\n",
    "        ax.set_box_aspect(1)\n",
    "\n",
    "    plt.suptitle(f'QSO - {label} Hemisphere (Random)', fontsize=16)\n",
    "    plt.tight_layout(rect=[0, 0, 1, 0.95])\n",
    "    plt.show()"
   ]
  },
  {
   "cell_type": "code",
   "execution_count": null,
   "id": "f4592a38",
   "metadata": {},
   "outputs": [],
   "source": []
  }
 ],
 "metadata": {
  "kernelspec": {
   "display_name": "base",
   "language": "python",
   "name": "python3"
  },
  "language_info": {
   "codemirror_mode": {
    "name": "ipython",
    "version": 3
   },
   "file_extension": ".py",
   "mimetype": "text/x-python",
   "name": "python",
   "nbconvert_exporter": "python",
   "pygments_lexer": "ipython3",
   "version": "3.12.3"
  }
 },
 "nbformat": 4,
 "nbformat_minor": 5
}
