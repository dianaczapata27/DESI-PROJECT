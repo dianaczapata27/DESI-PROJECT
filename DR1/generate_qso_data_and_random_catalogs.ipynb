{
  "cells": [
    {
      "cell_type": "code",
      "execution_count": null,
      "metadata": {},
      "outputs": [],
      "source": [
        "from astropy.cosmology import Planck18\n",
        "from astropy.coordinates import SkyCoord\n",
        "import astropy.units as u\n",
        "\n",
        "from astropy.table import Table, Column\n",
        "import pandas as pd\n",
        "import os\n",
        "import glob\n",
        "import random"
      ]
    },
    {
      "cell_type": "code",
      "execution_count": null,
      "metadata": {},
      "outputs": [],
      "source": [
        "# original files are found here https://data.desi.lbl.gov/public/dr1/survey/catalogs/dr1/LSS/iron/LSScats/v1.5/\n",
        "lss_data_N = Table.read(\"data/QSO_NGC_clustering.dat.fits\")\n",
        "lss_data_S = Table.read(\"data/QSO_SGC_clustering.dat.fits\")"
      ]
    },
    {
      "cell_type": "markdown",
      "metadata": {},
      "source": [
        "# For data file:"
      ]
    },
    {
      "cell_type": "code",
      "execution_count": null,
      "metadata": {},
      "outputs": [],
      "source": [
        "# Filter one-dimensional columns\n",
        "names_N = [name for name in lss_data_N.colnames if len(lss_data_N[name].shape) <= 1]\n",
        "names_S = [name for name in lss_data_S.colnames if len(lss_data_S[name].shape) <= 1]\n",
        "\n",
        "# Convert to pandas DataFrame with only valid columns\n",
        "df_N = lss_data_N[names_N].to_pandas()\n",
        "df_S = lss_data_S[names_S].to_pandas()\n",
        "\n",
        "df_N[\"ORIGIN_FILE\"] = \"NGC\"\n",
        "df_S[\"ORIGIN_FILE\"] = \"SGC\"\n",
        "\n",
        "# Concatenate both DataFrames\n",
        "df_total = pd.concat([df_N, df_S], ignore_index=True)\n",
        "df_total.rename(columns={'Z': 'REDSHIFT'}, inplace=True)"
      ]
    },
    {
      "cell_type": "markdown",
      "metadata": {},
      "source": [
        "### Calculate comovil distance and coordinates"
      ]
    },
    {
      "cell_type": "code",
      "execution_count": null,
      "metadata": {},
      "outputs": [],
      "source": [
        "cosmo = Planck18 # define cosmology"
      ]
    },
    {
      "cell_type": "code",
      "execution_count": null,
      "metadata": {},
      "outputs": [],
      "source": [
        "redshift = df_total['REDSHIFT'].values\n",
        "ra = df_total['RA'].values\n",
        "dec = df_total['DEC'].values\n",
        "\n",
        "# comoving distance\n",
        "d_comov = cosmo.comoving_distance(redshift).to(u.Mpc).value\n",
        "df_total['COMOVING_DISTANCE'] = d_comov\n",
        "\n",
        "coords = SkyCoord(ra=ra*u.deg, dec=dec*u.deg, distance=d_comov*u.Mpc, frame='icrs')\n",
        "\n",
        "# cartesian coordinates\n",
        "x = coords.cartesian.x.value\n",
        "y = coords.cartesian.y.value\n",
        "z = coords.cartesian.z.value \n",
        "\n",
        "df_total['X'] = coords.cartesian.x.to(u.Mpc).value\n",
        "df_total['Y'] = coords.cartesian.y.to(u.Mpc).value\n",
        "df_total['Z'] = coords.cartesian.z.to(u.Mpc).value "
      ]
    },
    {
      "cell_type": "markdown",
      "metadata": {},
      "source": [
        "### Save files"
      ]
    },
    {
      "cell_type": "code",
      "execution_count": null,
      "metadata": {},
      "outputs": [],
      "source": [
        "os.makedirs(\"create_files\", exist_ok=True)"
      ]
    },
    {
      "cell_type": "code",
      "execution_count": null,
      "metadata": {},
      "outputs": [],
      "source": [
        "# Filter: NGC y SGC\n",
        "df_ngc = df_total[df_total[\"ORIGIN_FILE\"] == \"NGC\"]\n",
        "df_sgc = df_total[df_total[\"ORIGIN_FILE\"] == \"SGC\"]\n",
        "\n",
        "def save_ecsv(df, name):\n",
        "    targetid = Column(df[\"TARGETID\"].values)\n",
        "    x = Column(df[\"X\"].values, unit=u.Mpc)\n",
        "    y = Column(df[\"Y\"].values, unit=u.Mpc)\n",
        "    z = Column(df[\"Z\"].values, unit=u.Mpc)\n",
        "\n",
        "    table = Table([targetid, x, y, z], names=(\"TARGETID\", \"X\", \"Y\", \"Z\"))\n",
        "    filename = f\"create_files/QSO_{name}_clustering_data.ecsv\"\n",
        "    table.write(filename, format=\"ascii.ecsv\", overwrite=True)\n",
        "    print(f\"Saved file: {filename}\")\n",
        "\n",
        "save_ecsv(df_ngc, \"NGC\")\n",
        "save_ecsv(df_sgc, \"SGC\")"
      ]
    },
    {
      "cell_type": "markdown",
      "metadata": {},
      "source": [
        "# For random file:"
      ]
    },
    {
      "cell_type": "code",
      "execution_count": null,
      "metadata": {},
      "outputs": [],
      "source": [
        "ran_file_NGC = Table.read(\"data/QSO_NGC_0_clustering.ran.fits\")\n",
        "ran_file_SGC = Table.read(\"data/QSO_SGC_0_clustering.ran.fits\")"
      ]
    },
    {
      "cell_type": "code",
      "execution_count": null,
      "metadata": {},
      "outputs": [],
      "source": [
        "def save_random(ran_table, data_df, label):\n",
        "    # To DataFrame\n",
        "    ran_df = ran_table.to_pandas()\n",
        "\n",
        "    # Randomly select n_rows rows\n",
        "    n_rows = len(data_df)\n",
        "    ran_df_sampled = ran_df.sample(n=n_rows, random_state=42).reset_index(drop=True)\n",
        "\n",
        "    # Calculate comoving distance\n",
        "    z_ran = ran_df_sampled['Z'].values\n",
        "    d_comov = cosmo.comoving_distance(z_ran).to(u.Mpc)\n",
        "    ran_df_sampled['COMOVING_DISTANCE'] = d_comov.value\n",
        "\n",
        "    # Calculate Cartesian coordinates\n",
        "    coords = SkyCoord(\n",
        "        ra=ran_df_sampled['RA'].values * u.deg,\n",
        "        dec=ran_df_sampled['DEC'].values * u.deg,\n",
        "        distance=d_comov\n",
        "    )\n",
        "\n",
        "    x = Column(coords.cartesian.x.to(u.Mpc), name='X')\n",
        "    y = Column(coords.cartesian.y.to(u.Mpc), name='Y')\n",
        "    z = Column(coords.cartesian.z.to(u.Mpc), name='Z')\n",
        "    targetid = Column(ran_df_sampled['TARGETID'], name='TARGETID')\n",
        "\n",
        "    # Save files\n",
        "    output_table = Table([targetid, x, y, z])\n",
        "    filename = f\"create_files/QSO_{label}_clustering_random.ecsv\"\n",
        "    output_table.write(filename, format='ascii.ecsv', overwrite=True)\n",
        "    print(f\"Saved file: {filename}\")"
      ]
    },
    {
      "cell_type": "code",
      "execution_count": null,
      "metadata": {},
      "outputs": [],
      "source": [
        "save_random(ran_file_NGC, df_ngc, \"NGC\")\n",
        "save_random(ran_file_SGC, df_sgc, \"SGC\")"
      ]
    }
  ],
  "metadata": {
    "colab": {
      "provenance": []
    },
    "kernelspec": {
      "display_name": "base",
      "language": "python",
      "name": "python3"
    },
    "language_info": {
      "codemirror_mode": {
        "name": "ipython",
        "version": 3
      },
      "file_extension": ".py",
      "mimetype": "text/x-python",
      "name": "python",
      "nbconvert_exporter": "python",
      "pygments_lexer": "ipython3",
      "version": "3.12.3"
    }
  },
  "nbformat": 4,
  "nbformat_minor": 0
}
