{
  "cells": [
    {
      "cell_type": "code",
      "execution_count": null,
      "metadata": {},
      "outputs": [],
      "source": [
        "import os\n",
        "import numpy as np\n",
        "from astropy.table import Table\n",
        "\n",
        "import matplotlib.pyplot as plt\n",
        "import matplotlib\n",
        "matplotlib.rcParams['figure.dpi'] = 360\n",
        "matplotlib.rcParams['text.usetex'] = True\n",
        "os.environ['PATH'] = '/Library/TeX/texbin:' + os.environ['PATH']"
      ]
    },
    {
      "cell_type": "code",
      "execution_count": null,
      "metadata": {},
      "outputs": [],
      "source": [
        "# Folder where the generated .ecsv files are stored\n",
        "folder = \"create_files\""
      ]
    },
    {
      "cell_type": "code",
      "execution_count": null,
      "metadata": {},
      "outputs": [],
      "source": [
        "data_file_NGC = Table.read(\"create_files/QSO_NGC_clustering_data.ecsv\", format=\"ascii.ecsv\")\n",
        "data_file_SGC = Table.read(\"create_files/QSO_SGC_clustering_data.ecsv\", format=\"ascii.ecsv\")\n",
        "\n",
        "random_file_NGC = Table.read(\"create_files/QSO_NGC_clustering_random.ecsv\", format=\"ascii.ecsv\")\n",
        "random_file_SGC = Table.read(\"create_files/QSO_SGC_clustering_random.ecsv\", format=\"ascii.ecsv\")"
      ]
    },
    {
      "cell_type": "code",
      "execution_count": null,
      "metadata": {},
      "outputs": [],
      "source": [
        "df_data_NGC = data_file_NGC.to_pandas()\n",
        "df_data_SGC = data_file_SGC.to_pandas()\n",
        "\n",
        "df_random_NGC = random_file_NGC.to_pandas()\n",
        "df_random_SGC = random_file_SGC.to_pandas()"
      ]
    },
    {
      "cell_type": "code",
      "execution_count": null,
      "metadata": {},
      "outputs": [],
      "source": [
        "data_list = [df_data_NGC, df_data_SGC]\n",
        "rand_list = [df_random_NGC, df_random_SGC]\n",
        "titles = ['NGC', 'SGC']\n",
        "\n",
        "fig, axes = plt.subplots(1, 2, figsize=(10, 6))\n",
        "\n",
        "for i, ax in enumerate(axes):\n",
        "    data = data_list[i]\n",
        "    rand = rand_list[i]\n",
        "\n",
        "    ax.scatter(rand['X'], rand['Y'], s=0.001, color='black')\n",
        "    ax.scatter(data['X'], data['Y'], s=0.001, color='red')\n",
        "\n",
        "    ax.set_title(f'{titles[i]} Region')\n",
        "    ax.set_xlabel('X [Mpc]')\n",
        "    ax.set_ylabel('Y [Mpc]')\n",
        "    ax.grid(True)\n",
        "\n",
        "plt.suptitle('QSO – Data (red) vs Random (black) by Region', fontsize=15)\n",
        "plt.tight_layout(rect=[0, 0, 1, 0.95])\n",
        "plt.show()\n"
      ]
    },
    {
      "cell_type": "code",
      "execution_count": null,
      "metadata": {},
      "outputs": [],
      "source": [
        "fig, axes = plt.subplots(1, 2, figsize=(10, 6))\n",
        "\n",
        "for i, ax in enumerate(axes):\n",
        "    data = data_list[i]\n",
        "    rand = rand_list[i]\n",
        "\n",
        "    ax.scatter(rand['X'], rand['Z'], s=0.001, color='black')\n",
        "    ax.scatter(data['X'], data['Z'], s=0.001, color='red')\n",
        "\n",
        "    ax.set_title(f'{titles[i]} Region')\n",
        "    ax.set_xlabel('X [Mpc]')\n",
        "    ax.set_ylabel('Z [Mpc]')\n",
        "    ax.grid(True)\n",
        "\n",
        "plt.suptitle('QSO – Data (red) vs Random (black) by Region', fontsize=15)\n",
        "plt.tight_layout(rect=[0, 0, 1, 0.95])\n",
        "plt.show()"
      ]
    },
    {
      "cell_type": "code",
      "execution_count": null,
      "metadata": {},
      "outputs": [],
      "source": [
        "fig, axes = plt.subplots(1, 2, figsize=(10, 6))\n",
        "\n",
        "for i, ax in enumerate(axes):\n",
        "    data = data_list[i]\n",
        "    rand = rand_list[i]\n",
        "\n",
        "    ax.scatter(rand['Y'], rand['Z'], s=0.001, color='black')\n",
        "    ax.scatter(data['Y'], data['Z'], s=0.001, color='red')\n",
        "\n",
        "    ax.set_title(f'{titles[i]} Region')\n",
        "    ax.set_xlabel('Y [Mpc]')\n",
        "    ax.set_ylabel('Z [Mpc]')\n",
        "    ax.grid(True)\n",
        "\n",
        "plt.suptitle('QSO – Data (red) vs Random (black) by Region', fontsize=15)\n",
        "plt.tight_layout(rect=[0, 0, 1, 0.95])\n",
        "plt.show()"
      ]
    },
    {
      "cell_type": "code",
      "execution_count": null,
      "metadata": {},
      "outputs": [],
      "source": [
        "fig, axes = plt.subplots(1, 2, figsize=(10, 6))\n",
        "\n",
        "for i, ax in enumerate(axes):\n",
        "    data = data_list[i]\n",
        "    rand = rand_list[i]\n",
        "\n",
        "    r_data = np.sqrt(data['X']**2 + data['Y']**2 + data['Z']**2)\n",
        "    r_rand = np.sqrt(rand['X']**2 + rand['Y']**2 + rand['Z']**2)\n",
        "\n",
        "    ax.hist(r_rand, bins=50, color='black', alpha=0.8)\n",
        "    ax.hist(r_data, bins=50, color='red', alpha=0.7)\n",
        "\n",
        "    ax.set_title(f'{titles[i]} Region')\n",
        "    ax.set_xlabel(r'$r\\ \\mathrm{[Mpc]}$')\n",
        "\n",
        "    ax.set_ylabel('Count')\n",
        "    ax.grid(True)\n",
        "\n",
        "fig.suptitle(r'Histogram of $r = \\sqrt{X^2 + Y^2 + Z^2}$ — Data (red) vs Random (black)', fontsize=15)\n",
        "plt.tight_layout(rect=[0, 0, 1, 0.93])\n",
        "plt.show()"
      ]
    }
  ],
  "metadata": {
    "colab": {
      "provenance": []
    },
    "kernelspec": {
      "display_name": "base",
      "language": "python",
      "name": "python3"
    },
    "language_info": {
      "codemirror_mode": {
        "name": "ipython",
        "version": 3
      },
      "file_extension": ".py",
      "mimetype": "text/x-python",
      "name": "python",
      "nbconvert_exporter": "python",
      "pygments_lexer": "ipython3",
      "version": "3.12.3"
    }
  },
  "nbformat": 4,
  "nbformat_minor": 0
}
